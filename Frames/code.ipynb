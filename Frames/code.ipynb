import cv2
import os


path =        #"./video/vi.mp4"
video = cv2.VideoCapture(path)

try:
    if not os.path.exists('frame'):
        os.makedirs('frame')

except OSError:
    print('Error: Creating directory of data')

def take_frame(video,k,n):
    ix = 0
    num = 0
    num1 =0
    frames = []
    for i in range(0,k):
        frames.append((ix+i)%k)

    while True:
        ret , frame = video.read()

        if ret:
                for i in frames:
                    if i == ix:
                        name = './frame/frames' +str(num) +'.jpg'
                        print("Creating"+name)
                        cv2.imwrite(name,frame)
                        ix +=1
                        num +=1
                        num1 +=1
                        if ix > k:
                            ix = ix%k

                num1 +=1
                if num1 == n:
                    ix = 0
                    num1 = 0

        else:
            break
    video.release()

take_frame(video,2,60)
