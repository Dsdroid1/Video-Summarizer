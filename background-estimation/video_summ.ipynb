{
 "cells": [
  {
   "cell_type": "code",
   "execution_count": 2,
   "metadata": {},
   "outputs": [],
   "source": [
    "import numpy as np\n",
    "import cv2"
   ]
  },
  {
   "cell_type": "code",
   "execution_count": 3,
   "metadata": {},
   "outputs": [],
   "source": [
    "\n",
    "# from skimage import data, filters\n",
    "\n",
    "# Open Video\n",
    "cap = cv2.VideoCapture('cctv.mp4')\n",
    "\n",
    "# Randomly select 25 frames\n",
    "frameIds = cap.get(cv2.CAP_PROP_FRAME_COUNT) * np.random.uniform(size=25)\n",
    "\n",
    "# Store selected frames in an array\n",
    "frames = []\n",
    "for fid in frameIds:\n",
    "    cap.set(cv2.CAP_PROP_POS_FRAMES, fid)\n",
    "    ret, frame = cap.read()\n",
    "    frames.append(frame)\n",
    "\n",
    "# Calculate the median along the time axis\n",
    "medianFrame = np.median(frames, axis=0).astype(dtype=np.uint8)    \n",
    "\n",
    "# Display median frame\n",
    "cv2.imshow('frame', medianFrame)\n",
    "cv2.waitKey(0)\n",
    "\n",
    "# Reset frame number to 0\n",
    "cap.set(cv2.CAP_PROP_POS_FRAMES, 0)\n",
    "\n",
    "# Convert background to grayscale\n",
    "grayMedianFrame = cv2.cvtColor(medianFrame, cv2.COLOR_BGR2GRAY)\n",
    "\n",
    "frame_width = int(cap.get(3))\n",
    "frame_height = int(cap.get(4))\n",
    "\n",
    "size = (frame_width, frame_height)\n",
    "\n",
    "result = cv2.VideoWriter('filename.mp4',\n",
    "\t\t\t\t\t\tcv2.VideoWriter_fourcc(*'MJPG'),\n",
    "\t\t\t\t\t\t30, size)\n",
    "\n",
    "# Loop over all frames\n",
    "ret = True\n",
    "while(ret):\n",
    "\n",
    "    # Read frame\n",
    "    ret, frame = cap.read()\n",
    "    # Convert current frame to grayscale\n",
    "    if ret:\n",
    "        frame_g = cv2.cvtColor(frame, cv2.COLOR_BGR2GRAY)\n",
    "        # Calculate absolute difference of current frame and \n",
    "        # the median frame\n",
    "        dframe = cv2.absdiff(frame_g, grayMedianFrame)\n",
    "        # Treshold to binarize\n",
    "        th, dframe = cv2.threshold(dframe, 60, 255, cv2.THRESH_BINARY) # adjust threshold according to the video\n",
    "        # Save image\n",
    "        count = 0\n",
    "        choose = False\n",
    "        n_white_pix = np.sum(dframe == 255)\n",
    "        if n_white_pix > 0.15*frame_height*frame_width:\n",
    "            choose = True\n",
    "        if choose:   \n",
    "            to_BGR = cv2.cvtColor(dframe, cv2.COLOR_GRAY2BGR)\n",
    "            result.write(frame)\n",
    "\n",
    "\n",
    "# Release video object\n",
    "cap.release()\n",
    "result.release()\n",
    "# Destroy all windows\n",
    "cv2.destroyAllWindows()\n"
   ]
  },
  {
   "cell_type": "code",
   "execution_count": null,
   "metadata": {},
   "outputs": [],
   "source": []
  }
 ],
 "metadata": {
  "kernelspec": {
   "display_name": "Python 3",
   "language": "python",
   "name": "python3"
  },
  "language_info": {
   "codemirror_mode": {
    "name": "ipython",
    "version": 3
   },
   "file_extension": ".py",
   "mimetype": "text/x-python",
   "name": "python",
   "nbconvert_exporter": "python",
   "pygments_lexer": "ipython3",
   "version": "3.8.5"
  }
 },
 "nbformat": 4,
 "nbformat_minor": 2
}
