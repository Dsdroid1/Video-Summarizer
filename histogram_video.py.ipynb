{
 "cells": [
  {
   "cell_type": "code",
   "execution_count": 1,
   "metadata": {},
   "outputs": [],
   "source": [
    "import numpy as np\n",
    "import cv2\n",
    "import matplotlib.pyplot as plt"
   ]
  },
  {
   "cell_type": "code",
   "execution_count": 37,
   "metadata": {},
   "outputs": [
    {
     "name": "stdout",
     "output_type": "stream",
     "text": [
      "0th superframe created\n",
      "Super frame  1  has similarity score with prev selected frame  0  of  0.6865513340514598\n",
      "Super frame  2  has similarity score with prev selected frame  0  of  0.6945969388686305\n",
      "Super frame  3  has similarity score with prev selected frame  0  of  0.6924795055304758\n"
     ]
    }
   ],
   "source": [
    "video_path = 'video.avi'\n",
    "cap = cv2.VideoCapture(video_path)\n",
    "#Consider a window of size N,take the average of frames in that window,then get its histogram\n",
    "\n",
    "N = 30\n",
    "Selected = []\n",
    "taken_this_iter = 0\n",
    "i = 0\n",
    "prev = None\n",
    "#video_dim = (768, 1366, 3)\n",
    "video_dim = (720, 1280,3)\n",
    "\n",
    "cap2 = cv2.VideoCapture(video_path)\n",
    "r,f = cap2.read()\n",
    "video_dim = f.shape\n",
    "cap2.close()\n",
    "\n",
    "SuperFrame = np.zeros(video_dim).astype(np.float32)\n",
    "frames = []\n",
    "final = []\n",
    "lastHist = None\n",
    "currHist = None\n",
    "thresh = 0.6\n",
    "\n",
    "while(1):\n",
    "    taken_this_iter = 0\n",
    "    SuperFrame =  np.zeros(video_dim).astype(np.float32)\n",
    "    frames = []\n",
    "    while(taken_this_iter < N):\n",
    "        \n",
    "        ret ,frame = cap.read()\n",
    "        if ret==True:\n",
    "            #Frame exists\n",
    "            #hsv = cv2.cvtColor(frame, cv2.COLOR_BGR2HSV).astype(np.float32)\n",
    "            #print(hsv.shape)\n",
    "            taken_this_iter+=1\n",
    "#             if SuperFrame != 0:\n",
    "#                 SuperFrame += hsv\n",
    "#             else:\n",
    "#                 SuperFrame = hsv\n",
    "            SuperFrame += frame.astype(np.float32)\n",
    "            frames.append(frame)\n",
    "        else:\n",
    "            break\n",
    "    if taken_this_iter !=0:\n",
    "        SuperFrame = SuperFrame/taken_this_iter\n",
    "    if i==0:\n",
    "        lastHist = cv2.calcHist([SuperFrame.astype(np.uint8)],[0],None,[256],[0,256])\n",
    "        print('0th superframe created')\n",
    "        prev = i\n",
    "        Selected.append(i)\n",
    "        for frame_sel in frames:\n",
    "                final.append(frame_sel)\n",
    "    elif taken_this_iter !=0:\n",
    "        currHist = cv2.calcHist([SuperFrame.astype(np.uint8)],[0],None,[256],[0,256])\n",
    "        #Compare with last hist\n",
    "        similar_score = cv2.compareHist(currHist,lastHist,cv2.HISTCMP_CORREL)\n",
    "        print(\"Super frame \",str(i),\" has similarity score with prev selected frame \",str(prev),\" of \",str(similar_score))\n",
    "        if similar_score < thresh:\n",
    "            Selected.append(i)\n",
    "            print(\"Super frame \"+str(i)+\" is accepted\")\n",
    "            prev = i\n",
    "            lastHist = currHist\n",
    "            for frame_sel in frames:\n",
    "                final.append(frame_sel)\n",
    "    \n",
    "    i=i+1\n",
    "    if taken_this_iter==0:\n",
    "        #Video ended\n",
    "        break\n",
    "#Now create summary\n",
    "size = (video_dim[1],video_dim[0])\n",
    "out = cv2.VideoWriter('project.avi',cv2.VideoWriter_fourcc(*'DIVX'), 15, size)\n",
    "for i in range(len(final)):\n",
    "    out.write(final[i])\n",
    "out.release()\n",
    "        \n",
    "cv2.destroyAllWindows()\n",
    "cap.release()"
   ]
  },
  {
   "cell_type": "code",
   "execution_count": 31,
   "metadata": {},
   "outputs": [
    {
     "name": "stdout",
     "output_type": "stream",
     "text": [
      "0\n"
     ]
    },
    {
     "data": {
      "image/png": "[encoded data removed]",
      "text/plain": [
       "<Figure size 432x288 with 1 Axes>"
      ]
     },
     "metadata": {
      "needs_background": "light"
     },
     "output_type": "display_data"
    }
   ],
   "source": [
    "plt.plot(lastHist)\n",
    "print(taken_this_iter)"
   ]
  },
  {
   "cell_type": "code",
   "execution_count": 3,
   "metadata": {},
   "outputs": [
    {
     "name": "stdout",
     "output_type": "stream",
     "text": [
      "[0, 2, 36]\n"
     ]
    }
   ],
   "source": [
    "print(Selected)"
   ]
  },
  {
   "cell_type": "code",
   "execution_count": 35,
   "metadata": {},
   "outputs": [
    {
     "name": "stdout",
     "output_type": "stream",
     "text": [
      "(720, 1280, 3)\n"
     ]
    },
    {
     "ename": "ValueError",
     "evalue": "operands could not be broadcast together with shapes (720,1280,3) (768,1366,3) ",
     "output_type": "error",
     "traceback": [
      "\u001b[0;31m---------------------------------------------------------------------------\u001b[0m",
      "\u001b[0;31mValueError\u001b[0m                                Traceback (most recent call last)",
      "\u001b[0;32m<ipython-input-35-b2526c8242a4>\u001b[0m in \u001b[0;36m<module>\u001b[0;34m\u001b[0m\n\u001b[1;32m     12\u001b[0m \u001b[0;34m\u001b[0m\u001b[0m\n\u001b[1;32m     13\u001b[0m \u001b[0mhist\u001b[0m \u001b[0;34m=\u001b[0m \u001b[0mcv2\u001b[0m\u001b[0;34m.\u001b[0m\u001b[0mcalcHist\u001b[0m\u001b[0;34m(\u001b[0m\u001b[0;34m[\u001b[0m\u001b[0mdata\u001b[0m\u001b[0;34m.\u001b[0m\u001b[0mastype\u001b[0m\u001b[0;34m(\u001b[0m\u001b[0mnp\u001b[0m\u001b[0;34m.\u001b[0m\u001b[0muint8\u001b[0m\u001b[0;34m)\u001b[0m\u001b[0;34m]\u001b[0m\u001b[0;34m,\u001b[0m\u001b[0;34m[\u001b[0m\u001b[0;36m0\u001b[0m\u001b[0;34m]\u001b[0m\u001b[0;34m,\u001b[0m\u001b[0;32mNone\u001b[0m\u001b[0;34m,\u001b[0m\u001b[0;34m[\u001b[0m\u001b[0;36m256\u001b[0m\u001b[0;34m]\u001b[0m\u001b[0;34m,\u001b[0m\u001b[0;34m[\u001b[0m\u001b[0;36m0\u001b[0m\u001b[0;34m,\u001b[0m\u001b[0;36m256\u001b[0m\u001b[0;34m]\u001b[0m\u001b[0;34m)\u001b[0m\u001b[0;34m\u001b[0m\u001b[0;34m\u001b[0m\u001b[0m\n\u001b[0;32m---> 14\u001b[0;31m \u001b[0mprint\u001b[0m\u001b[0;34m(\u001b[0m\u001b[0mframe\u001b[0m\u001b[0;34m+\u001b[0m\u001b[0mframe2\u001b[0m\u001b[0;34m)\u001b[0m\u001b[0;34m\u001b[0m\u001b[0;34m\u001b[0m\u001b[0m\n\u001b[0m\u001b[1;32m     15\u001b[0m \u001b[0mplt\u001b[0m\u001b[0;34m.\u001b[0m\u001b[0mplot\u001b[0m\u001b[0;34m(\u001b[0m\u001b[0mhist\u001b[0m\u001b[0;34m)\u001b[0m\u001b[0;34m\u001b[0m\u001b[0;34m\u001b[0m\u001b[0m\n\u001b[1;32m     16\u001b[0m \u001b[0mcv2\u001b[0m\u001b[0;34m.\u001b[0m\u001b[0mdestroyAllWindows\u001b[0m\u001b[0;34m(\u001b[0m\u001b[0;34m)\u001b[0m\u001b[0;34m\u001b[0m\u001b[0;34m\u001b[0m\u001b[0m\n",
      "\u001b[0;31mValueError\u001b[0m: operands could not be broadcast together with shapes (720,1280,3) (768,1366,3) "
     ]
    }
   ],
   "source": [
    "cap = cv2.VideoCapture('video.avi')\n",
    "ret,frame = cap.read()\n",
    "print(frame.shape)\n",
    "#print(frame)\n",
    "hist = cv2.calcHist([frame.astype(np.uint8)],[0],None,[256],[0,256])\n",
    "frame = frame.astype(np.float32)\n",
    "#print(hist)\n",
    "for i in range(100):\n",
    "    ret,framex = cap.read()\n",
    "    frame += framex.astype(np.float32)\n",
    "data = frame/101\n",
    "\n",
    "hist = cv2.calcHist([data.astype(np.uint8)],[0],None,[256],[0,256])\n",
    "print(frame+frame2)\n",
    "plt.plot(hist)\n",
    "cv2.destroyAllWindows()\n",
    "cap.release()"
   ]
  },
  {
   "cell_type": "code",
   "execution_count": null,
   "metadata": {},
   "outputs": [],
   "source": []
  }
 ],
 "metadata": {
  "kernelspec": {
   "display_name": "Python 3",
   "language": "python",
   "name": "python3"
  },
  "language_info": {
   "codemirror_mode": {
    "name": "ipython",
    "version": 3
   },
   "file_extension": ".py",
   "mimetype": "text/x-python",
   "name": "python",
   "nbconvert_exporter": "python",
   "pygments_lexer": "ipython3",
   "version": "3.7.3"
  }
 },
 "nbformat": 4,
 "nbformat_minor": 2
}
